{
 "cells": [
  {
   "cell_type": "markdown",
   "metadata": {},
   "source": [
    "# Preparing a text dataset"
   ]
  },
  {
   "cell_type": "code",
   "execution_count": null,
   "metadata": {},
   "outputs": [],
   "source": [
    "# Temp hacky workaround until pandas read_json encoding issue gets resolved in python 2.7\n",
    "# https://github.com/pandas-dev/pandas/issues/15132\n",
    "# The default output streams are captured and restored otherwise ipython cells wont show log messages.\n",
    "import sys\n",
    "default_stdout = sys.stdout\n",
    "default_stderr = sys.stderr\n",
    "reload(sys)\n",
    "sys.setdefaultencoding('utf-8')\n",
    "sys.stdout = default_stdout\n",
    "sys.stderr = default_stderr\n",
    "\n",
    "import pandas as pd\n",
    "df = pd.read_json('datasets/yelp_academic_dataset_review.json', lines=True, encoding='utf-8')"
   ]
  },
  {
   "cell_type": "code",
   "execution_count": null,
   "metadata": {},
   "outputs": [],
   "source": [
    "df.head()"
   ]
  },
  {
   "cell_type": "code",
   "execution_count": null,
   "metadata": {},
   "outputs": [],
   "source": [
    "%matplotlib inline\n",
    "import seaborn as sb\n",
    "sb.distplot(df['stars'])"
   ]
  },
  {
   "cell_type": "code",
   "execution_count": null,
   "metadata": {},
   "outputs": [],
   "source": [
    "from keras_text.data import Dataset\n",
    "from keras_text.processing import SentenceWordTokenizer\n",
    "\n",
    "X = df['text'].values\n",
    "y = df['stars'].values\n",
    "tokenizer = SentenceWordTokenizer()\n",
    "tokenizer.build_vocab(X, batch_size=8000)"
   ]
  },
  {
   "cell_type": "code",
   "execution_count": null,
   "metadata": {
    "collapsed": true
   },
   "outputs": [],
   "source": [
    "ds = Dataset(X, y, tokenizer=tokenizer)\n",
    "ds.update_test_indices()\n",
    "ds.save('datasets/yelp_sent_dataset')"
   ]
  },
  {
   "cell_type": "code",
   "execution_count": null,
   "metadata": {
    "scrolled": false
   },
   "outputs": [],
   "source": [
    "import plotly.plotly as py\n",
    "import plotly.graph_objs as go\n",
    "from plotly.offline import init_notebook_mode, iplot\n",
    "init_notebook_mode(connected=False)\n",
    "\n",
    "\n",
    "def plot_histogram(title, data, cumulative=True):\n",
    "    trace = go.Histogram(x=data, histnorm='percent', \n",
    "                         cumulative={'enabled': cumulative})\n",
    "    layout = go.Layout(\n",
    "        title=title\n",
    "    )\n",
    "    fig = go.Figure(data=[trace], layout=layout)\n",
    "    iplot(fig)\n",
    "\n",
    "\n",
    "plot_histogram('Words per sentence', ds.tokenizer.get_counts(1))\n",
    "ds.tokenizer.get_stats(1)"
   ]
  }
 ],
 "metadata": {
  "kernelspec": {
   "display_name": "Python 2",
   "language": "python",
   "name": "python2"
  },
  "language_info": {
   "codemirror_mode": {
    "name": "ipython",
    "version": 2
   },
   "file_extension": ".py",
   "mimetype": "text/x-python",
   "name": "python",
   "nbconvert_exporter": "python",
   "pygments_lexer": "ipython2",
   "version": "2.7.12"
  }
 },
 "nbformat": 4,
 "nbformat_minor": 1
}
